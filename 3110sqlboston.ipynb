{
 "cells": [
  {
   "cell_type": "markdown",
   "id": "84f44347",
   "metadata": {},
   "source": [
    "***GENERATED CODE FOR 3110sqlboston PIPELINE.***"
   ]
  },
  {
   "cell_type": "markdown",
   "id": "ee2e4c58",
   "metadata": {},
   "source": [
    "***DON'T EDIT THIS CODE.***"
   ]
  },
  {
   "cell_type": "markdown",
   "id": "8fa9235b",
   "metadata": {},
   "source": [
    "***CONNECTOR FUNCTIONS TO READ DATA.***"
   ]
  },
  {
   "cell_type": "code",
   "execution_count": null,
   "id": "5247cd98",
   "metadata": {},
   "outputs": [],
   "source": [
    "import warnings\n",
    "warnings.filterwarnings('ignore')\n",
    "\n",
    "\n",
    "class RDBMSConnector:\n",
    "\n",
    "    def fetch(spark, config):\n",
    "        drivers = {\"mssql\": \"com.microsoft.sqlserver.jdbc.SQLServerDriver\"}\n",
    "        return spark.read.format(\"jdbc\") \\\n",
    "            .option(\"url\", f\"jdbc:sqlserver://{eval(config)['host']}:{eval(config)['port']};databaseName={eval(config)['database']}\") \\\n",
    "            .option(eval(config)['qtype'], eval(config)['query']) \\\n",
    "            .option(\"user\", eval(config)['user']) \\\n",
    "            .option(\"password\", eval(config)['password']) \\\n",
    "            .option(\"driver\",  \"com.microsoft.sqlserver.jdbc.SQLServerDriver\") \\\n",
    "            .load()\n",
    "\n",
    "    def put(df, spark, config):\n",
    "        drivers = {\"mssql\": \"com.microsoft.sqlserver.jdbc.SQLServerDriver\"}\n",
    "        # Write modes: overwrite, append\n",
    "        df.write.mode(eval(config)['writemode'])\\\n",
    "            .format('jdbc') \\\n",
    "            .option(\"url\", f\"jdbc:{eval(config)['dbtype']}://{eval(config)['host']}:{eval(config)['port']};databaseName={eval(config)['database']}\") \\\n",
    "            .option(\"dbtable\", eval(config)['table']) \\\n",
    "            .option(\"user\", eval(config)['user']) \\\n",
    "            .option(\"password\", eval(config)['password']) \\\n",
    "            .option(\"driver\",  \"com.microsoft.sqlserver.jdbc.SQLServerDriver\") \\\n",
    "            .save()\n"
   ]
  },
  {
   "cell_type": "markdown",
   "id": "1d8c804c",
   "metadata": {},
   "source": [
    "***OPERATION FUNCTIONS***"
   ]
  },
  {
   "cell_type": "code",
   "execution_count": null,
   "id": "f4474601",
   "metadata": {},
   "outputs": [],
   "source": [
    "import pyspark\n",
    "from dask.dataframe import from_pandas\n",
    "import json\n",
    "\n",
    "\n",
    "def calculateFormula(df, functionsData, applyOn):\n",
    "    dfcp = df\n",
    "    for functionData in functionsData:\n",
    "        if functionData['useNext']:\n",
    "            if 'dataPrepColumn_Inprocess' in list(dfcp.columns):\n",
    "                dfcp['dataPrepColumn_Inprocess'] = calculateEquation(\n",
    "                    dfcp, functionData['operator'], functionData['dataPrepColumn_Inprocess'], functionData['operand2'])\n",
    "            else:\n",
    "                dfcp['dataPrepColumn_Inprocess'] = calculateEquation(\n",
    "                    dfcp, functionData['operator'], functionData['operand1'], functionData['operand2'])\n",
    "        else:\n",
    "            if 'dataPrepColumn_Inprocess' in list(dfcp.columns):\n",
    "                if functionData['outputColumn'] == \"newColumn\":\n",
    "                    newColumnName = \"New_\" + \\\n",
    "                        functionData['operand1']+\"_\" + \\\n",
    "                        functionData['operator']+\"_\"+functionData['operand2']\n",
    "                    dfcp[newColumnName] = calculateEquation(dfcp, functionData['operator'],\n",
    "                                                            functionData['dataPrepColumn_Inprocess'], functionData['operand2'])\n",
    "                else:\n",
    "                    dfcp[functionData['outputColumn']] = calculateEquation(dfcp, functionData[\n",
    "                        'operator'], functionData['dataPrepColumn_Inprocess'], functionData['operand2'])\n",
    "                dfcp.drop('dataPrepColumn_Inprocess', axis=1)\n",
    "            else:\n",
    "                if functionData['outputColumn'] == \"newColumn\":\n",
    "                    newColumnName = \"New_\" + \\\n",
    "                        functionData['operand1']+\"_\" + \\\n",
    "                        functionData['operator']+\"_\"+functionData['operand2']\n",
    "                    dfcp[newColumnName] = calculateEquation(dfcp, functionData[\n",
    "                        'operator'], functionData['operand1'], functionData['operand2'])\n",
    "                else:\n",
    "                    dfcp[functionData['outputColumn']] = calculateEquation(dfcp, functionData[\n",
    "                        'operator'], functionData['operand1'], functionData['operand2'])\n",
    "    return dfcp\n",
    "\n",
    "\n",
    "def calculateEquation(df, operator, columnA, columnB):\n",
    "    if (operator == \"add\"):\n",
    "        return df[columnA].add(df[columnB])\n",
    "    elif (operator == \"sub\"):\n",
    "        return df[columnA].sub(df[columnB])\n",
    "    elif (operator == \"mul\"):\n",
    "        return df[columnA].mul(df[columnB])\n",
    "    elif (operator == \"div\"):\n",
    "        return df[columnA].div(df[columnB])\n",
    "    elif (operator == \"mod\"):\n",
    "        return df[columnA].mod(df[columnB])\n",
    "\n",
    "\n",
    "def runDataCleansing(sparkDf, spark, config):\n",
    "    configObj = json.loads(config)\n",
    "    sparkDf.persist(pyspark.StorageLevel.MEMORY_AND_DISK)\n",
    "    df = from_pandas((sparkDf.toPandas()), npartitions=5)\n",
    "    functionList = configObj['functionsApplied']\n",
    "    Data_Cleansing_Methods = {\"replaceBy\": replaceValues,\n",
    "                              \"formula\": calculateFormula,\n",
    "                              \"aggregate\": aggregation,\n",
    "                              \"converttostringtype\": changeToString,\n",
    "                              \"editname\": renameColumns}\n",
    "    for function in functionList:\n",
    "        function['functionName']\n",
    "        df = Data_Cleansing_Methods[function['functionName']](df, function['functionsData'],\n",
    "                                                              function['applyOn'])\n",
    "    sparkDf = spark.createDataFrame(df.compute())\n",
    "\n",
    "    display(sparkDf.limit(2).toPandas())\n",
    "    return sparkDf\n"
   ]
  },
  {
   "cell_type": "markdown",
   "id": "84726652",
   "metadata": {},
   "source": [
    "***CONNECTOR FUNCTIONS TO WRITE DATA.***"
   ]
  },
  {
   "cell_type": "code",
   "execution_count": null,
   "id": "93d1492b",
   "metadata": {},
   "outputs": [],
   "source": [
    "import datetime\n",
    "import requests\n",
    "import datetime\n",
    "import logging\n",
    "import warnings\n",
    "warnings.filterwarnings('ignore')\n",
    "logging.basicConfig(format='%(levelname)s:%(message)s', level=logging.INFO)\n",
    "\n",
    "\n",
    "class NumtraConnector:\n",
    "\n",
    "    def put(inStages, inStagesData, stageId, spark, config):\n",
    "        path = eval(config)['server_url']\n",
    "        baseType = eval(config)['baseType']\n",
    "        results_url = eval(config)['results_url']\n",
    "        server = eval(config)['server']\n",
    "        originalfile = eval(config)['orignalKey']\n",
    "        eval(config)['pathOnly']\n",
    "        filename = eval(config)['filename']\n",
    "        eval(config)['ser']\n",
    "        eval(config)['user']\n",
    "        eval(config)['password']\n",
    "        eval(config)['authSource']\n",
    "        eval(config)['user_id']\n",
    "        eval(config)['parent_id']\n",
    "        eval(config)['project_id']\n",
    "        time = str(int(datetime.datetime.now().timestamp()))\n",
    "\n",
    "        inStagesData[inStages[0]]\n",
    "\n",
    "        print(path)\n",
    "        print(baseType)\n",
    "        print(results_url)\n",
    "        print(server)\n",
    "        print(originalfile)\n",
    "        print(filename)\n",
    "\n",
    "        args = {\n",
    "            'url': path,\n",
    "            'baseType': baseType,\n",
    "            'originalfile': originalfile,\n",
    "            'filename': time + filename\n",
    "        }\n",
    "\n",
    "        response = requests.post(results_url, args)\n",
    "        return response\n"
   ]
  },
  {
   "cell_type": "markdown",
   "id": "c6dbff86",
   "metadata": {},
   "source": [
    "***READING DATAFRAME***"
   ]
  },
  {
   "cell_type": "code",
   "execution_count": null,
   "id": "3cda8957",
   "metadata": {},
   "outputs": [],
   "source": [
    "############## CREATE SPARK SESSION ############################ ENTER YOUR SPARK MASTER IP AND PORT TO CONNECT TO SERVER ################\n",
    "from pyspark.sql import SparkSession\n",
    "spark = SparkSession.builder.master('local[1]').getOrCreate()\n",
    "#%run 3110sqlbostonHooks.ipynb\n",
    "try:\n",
    "\t#sourcePreExecutionHook()\n",
    "\n",
    "\tsqlserver = RDBMSConnector.fetch(spark, \"{'host': '3.17.87.4', 'port': '1433', 'password': 'Passw0rd@123', 'database': 'testdb', 'user': 'SA', 'qtype': 'dbtable', 'query': 'boston', 'dbtype': 'mssql', 'is_header': 'Use Header Line', 'datacache': 0, 'server_url': '/numtraPlatform/NumtraPlatformV3/uploads/platform/'}\")\n",
    "\t#sourcePostExecutionHook(sqlserver)\n",
    "\n",
    "except Exception as ex: \n",
    "\tlogging.error(ex)\n",
    "#spark.stop()\n"
   ]
  },
  {
   "cell_type": "markdown",
   "id": "619b0dd4",
   "metadata": {},
   "source": [
    "***PERFORMING OPERATIONS***"
   ]
  },
  {
   "cell_type": "code",
   "execution_count": null,
   "id": "d91d1967",
   "metadata": {},
   "outputs": [],
   "source": [
    "#%run 3110sqlbostonHooks.ipynb\n",
    "try:\n",
    "\t#operationPreExecutionHook()\n",
    "\n",
    "datapreparation = runDataCleansing(sqlserver,spark,json.dumps( {\"url\": null, \"source_attributes\": {\"host\": \"3.17.87.4\", \"port\": \"1433\", \"password\": \"Passw0rd@123\", \"database\": \"testdb\", \"user\": \"SA\", \"qtype\": \"dbtable\", \"query\": \"boston\", \"dbtype\": \"mssql\", \"is_header\": \"Use Header Line\", \"datacache\": 0, \"server_url\": \"/numtraPlatform/NumtraPlatformV3/uploads/platform/\"}, \"DataPrepFile\": null, \"data_source\": \"mssql\", \"startListenerOnly\": 1, \"dateColumnNames\": [], \"FilePath\": \"/FileStore/platform/extra/6540b66a730bd4ed2218ecdb1698740011/0part.csv\", \"requestRatio\": 1.0, \"totalRows\": 508, \"BasicStats\": {\"missingValues\": 0.0, \"numberOfColumns\": 15, \"numberOfRows\": 508, \"duplicateRowCount\": 2, \"stats\": [{\"column\": \"CRIM\", \"alias\": \"CRIM\", \"generated\": 0, \"type\": \"real\", \"max\": 88.9761962890625, \"min\": 0.0063200001604855, \"mean\": 3.6061895300994244, \"missing\": 0.2, \"stddev\": 8.59, \"outliers\": [8.982959747314453, 13.522199630737305, 9.2322998046875, 8.267250061035156, 11.108099937438965, 18.498199462890625, 19.609100341796875, 15.288000106811523, 9.823490142822266, 23.6481990814209, 17.86669921875, 88.9761962890625, 15.87440013885498, 9.187020301818848, 20.08489990234375, 16.811800003051758, 24.393800735473636, 22.59709930419922, 14.333700180053713, 11.577899932861328, 8.644760131835938, 13.359800338745115, 8.716750144958496, 38.35179901123047, 9.916549682617188, 25.04610061645508, 14.236200332641602, 9.595709800720217, 24.801700592041016, 41.52920150756836, 67.9207992553711, 20.71619987487793, 11.95110034942627, 14.438300132751465, 51.13579940795898, 14.050700187683104, 18.81100082397461, 28.655799865722656, 45.74610137939453, 18.0846004486084, 10.834199905395508, 25.94059944152832, 73.53410339355469, 11.812299728393556, 11.087400436401367, 12.048199653625488, 8.792119979858398, 15.860300064086914, 12.247200012207031, 37.66189956665039, 9.338890075683594, 8.492130279541016, 10.062299728393556, 13.913399696350098, 11.160400390625, 14.42080020904541, 15.177200317382812, 13.678099632263184, 9.390629768371582, 22.05109977722168, 9.724180221557615, 9.966540336608888, 12.802300453186035, 10.671799659729004, 9.924850463867188, 9.329090118408203, 8.248089790344238, 9.513629913330078, 8.200579643249512, 15.57569980621338, 13.07509994506836, 15.02340030670166, 10.232999801635742, 14.333700180053713], \"validation\": []}, {\"column\": \"ZN\", \"alias\": \"ZN\", \"generated\": 0, \"type\": \"real\", \"max\": 100.0, \"min\": 0.0, \"mean\": 11.38976377952756, \"missing\": 0.0, \"stddev\": 23.28, \"outliers\": [75.0, 75.0, 75.0, 90.0, 85.0, 100.0, 80.0, 80.0, 45.0, 45.0, 45.0, 45.0, 45.0, 45.0, 60.0, 60.0, 80.0, 80.0, 80.0, 80.0, 95.0, 95.0, 82.5, 82.5, 95.0, 95.0, 30.0, 30.0, 30.0, 30.0, 30.0, 30.0, 80.0, 80.0, 90.0, 40.0, 40.0, 40.0, 40.0, 40.0, 90.0, 90.0, 55.0, 80.0, 52.5, 52.5, 52.5, 80.0, 80.0, 80.0, 70.0, 70.0, 70.0, 34.0, 34.0, 34.0, 33.0, 33.0, 33.0, 33.0, 35.0, 35.0, 35.0, 55.0, 55.0, 85.0, 80.0, 40.0, 40.0, 60.0, 60.0, 90.0, 80.0, 80.0], \"validation\": []}, {\"column\": \"INDUS\", \"alias\": \"INDUS\", \"generated\": 0, \"type\": \"real\", \"max\": 27.739999771118164, \"min\": 0.4600000083446502, \"mean\": 11.088224944924931, \"missing\": 0.2, \"stddev\": 6.87, \"outliers\": [], \"validation\": []}, {\"column\": \"CHAS\", \"alias\": \"CHAS\", \"generated\": 0, \"type\": \"real\", \"max\": 1.0, \"min\": 0.0, \"mean\": 0.06903353057199212, \"missing\": 0.2, \"stddev\": 0.25, \"outliers\": [1.0, 1.0, 1.0, 1.0, 1.0, 1.0, 1.0, 1.0, 1.0, 1.0, 1.0, 1.0, 1.0, 1.0, 1.0, 1.0, 1.0, 1.0, 1.0, 1.0, 1.0, 1.0, 1.0, 1.0, 1.0, 1.0, 1.0, 1.0, 1.0, 1.0, 1.0, 1.0, 1.0, 1.0, 1.0], \"validation\": []}, {\"column\": \"NOX\", \"alias\": \"NOX\", \"generated\": 0, \"type\": \"real\", \"max\": 0.8709999918937683, \"min\": 0.3849999904632568, \"mean\": 0.5546897444616878, \"missing\": 0.2, \"stddev\": 0.12, \"outliers\": [0.8709999918937683, 0.8709999918937683, 0.8709999918937683, 0.8709999918937683, 0.8709999918937683, 0.8709999918937683, 0.8709999918937683, 0.8709999918937683, 0.8709999918937683, 0.8709999918937683, 0.8709999918937683, 0.8709999918937683, 0.8709999918937683, 0.8709999918937683, 0.8709999918937683, 0.8709999918937683], \"validation\": []}, {\"column\": \"RM\", \"alias\": \"RM\", \"generated\": 0, \"type\": \"real\", \"max\": 8.779999732971191, \"min\": 3.561000108718872, \"mean\": 6.285777559899908, \"missing\": 0.0, \"stddev\": 0.7, \"outliers\": [8.069000244140625, 7.820000171661377, 4.902999877929688, 4.926000118255615, 7.802000045776367, 8.375, 7.928999900817871, 7.764999866485596, 7.830999851226807, 7.875, 7.610000133514404, 7.853000164031982, 8.034000396728516, 8.265999794006348, 8.725000381469727, 8.039999961853027, 7.685999870300293, 8.336999893188477, 8.246999740600586, 8.258999824523926, 8.704000473022461, 8.39799976348877, 8.29699993133545, 7.690999984741211, 7.820000171661377, 7.644999980926514, 7.922999858856201, 8.779999732971191, 3.561000108718872, 4.9629998207092285, 3.86299991607666, 4.906000137329102, 4.138000011444092, 4.368000030517578, 4.651999950408936, 4.880000114440918, 4.138000011444092, 4.627999782562256, 4.519000053405762], \"validation\": []}, {\"column\": \"AGE\", \"alias\": \"AGE\", \"generated\": 0, \"type\": \"real\", \"max\": 100.0, \"min\": 2.900000095367432, \"mean\": 68.56161417641978, \"missing\": 0.0, \"stddev\": 28.09, \"outliers\": [], \"validation\": []}, {\"column\": \"DIS\", \"alias\": \"DIS\", \"generated\": 0, \"type\": \"real\", \"max\": 12.126500129699709, \"min\": 1.1296000480651855, \"mean\": 3.798711914155218, \"missing\": 0.8, \"stddev\": 2.11, \"outliers\": [9.187600135803224, 9.222900390625, 9.22029972076416, 9.22029972076416, 10.71030044555664, 10.71030044555664, 12.126500129699709, 10.585700035095217, 10.585700035095217], \"validation\": []}, {\"column\": \"RAD\", \"alias\": \"RAD\", \"generated\": 0, \"type\": \"real\", \"max\": 24.0, \"min\": 1.0, \"mean\": 9.515748031496063, \"missing\": 0.0, \"stddev\": 8.71, \"outliers\": [], \"validation\": []}, {\"column\": \"TAX\", \"alias\": \"TAX\", \"generated\": 0, \"type\": \"real\", \"max\": 711.0, \"min\": 187.0, \"mean\": 408.2059405940594, \"missing\": 0.6, \"stddev\": 168.74, \"outliers\": [], \"validation\": []}, {\"column\": \"PTRATIO\", \"alias\": \"PTRATIO\", \"generated\": 0, \"type\": \"real\", \"max\": 22.0, \"min\": 12.600000381469728, \"mean\": 18.44311046788073, \"missing\": 0.0, \"stddev\": 2.17, \"outliers\": [12.600000381469728, 12.600000381469728, 12.600000381469728, 13.0, 13.0, 13.0, 13.0, 13.0, 13.0, 13.0, 13.0, 13.0, 13.0, 13.0, 13.0], \"validation\": []}, {\"column\": \"B\", \"alias\": \"B\", \"generated\": 0, \"type\": \"real\", \"max\": 396.8999938964844, \"min\": 0.3199999928474426, \"mean\": 356.8323995425241, \"missing\": 0.0, \"stddev\": 91.15, \"outliers\": [288.989990234375, 303.4200134277344, 306.3800048828125, 232.6000061035156, 248.30999755859372, 70.80000305175781, 344.9100036621094, 338.6300048828125, 262.760009765625, 172.91000366210938, 169.27000427246094, 341.6000061035156, 343.2799987792969, 261.95001220703125, 321.0199890136719, 88.01000213623047, 88.62999725341797, 338.9200134277344, 240.16000366210935, 227.6100006103516, 297.0899963378906, 330.0400085449219, 292.2900085449219, 348.1300048828125, 348.92999267578125, 341.6000061035156, 316.0299987792969, 131.4199981689453, 347.8800048828125, 285.8299865722656, 338.1600036621094, 329.4599914550781, 332.0899963378906, 314.6400146484375, 179.36000061035156, 2.5999999046325684, 35.04999923706055, 28.790000915527344, 210.97000122070312, 88.2699966430664, 27.25, 21.56999969482422, 127.36000061035156, 16.450000762939453, 48.45000076293945, 318.75, 319.9800109863281, 291.54998779296875, 2.5199999809265137, 3.650000095367432, 7.679999828338623, 24.649999618530277, 18.81999969482422, 96.7300033569336, 60.720001220703125, 83.44999694824219, 81.33000183105469, 97.9499969482422, 100.19000244140624, 100.62999725341795, 109.8499984741211, 27.489999771118164, 9.31999969482422, 68.94999694824219, 240.5200042724609, 43.060001373291016, 318.010009765625, 304.2099914550781, 0.3199999928474426, 6.679999828338623, 50.91999816894531, 10.479999542236328, 3.5, 272.2099914550781, 255.22999572753903, 334.3999938964844, 22.01000022888184, 331.2900085449219, 302.760009765625, 349.4800109863281, 344.04998779296875, 318.42999267578125], \"validation\": []}, {\"column\": \"LSTAT\", \"alias\": \"LSTAT\", \"generated\": 0, \"type\": \"real\", \"max\": 37.970001220703125, \"min\": 1.7300000190734863, \"mean\": 12.622854323603036, \"missing\": 0.0, \"stddev\": 7.14, \"outliers\": [29.93000030517578, 30.809999465942383, 34.40999984741211, 29.530000686645508, 29.549999237060547, 34.77000045776367, 37.970001220703125, 30.6299991607666, 30.809999465942383, 31.989999771118164, 30.6200008392334, 30.59000015258789, 29.96999931335449, 34.369998931884766, 36.97999954223633, 34.02000045776367, 29.68000030517578], \"validation\": []}, {\"column\": \"MEDV\", \"alias\": \"MEDV\", \"generated\": 0, \"type\": \"real\", \"max\": 50.0, \"min\": 5.0, \"mean\": 22.53858271546251, \"missing\": 0.0, \"stddev\": 9.18, \"outliers\": [36.20000076293945, 35.400001525878906, 38.70000076293945, 43.79999923706055, 41.29999923706055, 50.0, 50.0, 50.0, 50.0, 37.20000076293945, 39.79999923706055, 36.20000076293945, 37.900001525878906, 50.0, 37.0, 36.400001525878906, 50.0, 42.29999923706055, 48.5, 50.0, 44.79999923706055, 50.0, 37.59999847412109, 46.70000076293945, 41.70000076293945, 48.29999923706055, 42.79999923706055, 44.0, 50.0, 36.0, 43.09999847412109, 48.79999923706055, 36.5, 50.0, 43.5, 35.20000076293945, 35.099998474121094, 45.400001525878906, 35.400001525878906, 46.0, 50.0, 37.29999923706055, 36.09999847412109, 50.0, 50.0, 50.0, 50.0, 50.0, 5.0, 6.300000190734863, 5.599999904632568, 5.0, 7.0, 7.0], \"validation\": []}, {\"column\": \"B_LSTAT\", \"alias\": \"B_LSTAT\", \"generated\": 1, \"type\": \"real\", \"max\": 434.8699951171875, \"min\": 12.709999561309814, \"mean\": 369.4552538661272, \"missing\": 0.0, \"stddev\": 88.78, \"outliers\": [300.6799898147583, 319.9300136566162, 323.660005569458, 260.3100051879883, 268.64999771118164, 81.43000316619873, 354.0000047683716, 280.0700092315674, 200.71000289916992, 185.9200038909912, 354.8800058364868, 355.39999866485596, 277.7400121688843, 336.13998889923096, 103.03000259399414, 104.7699966430664, 344.4200134277344, 249.97000408172605, 239.75000095367434, 308.18999671936035, 341.3600082397461, 306.72000885009766, 354.5300064086914, 330.0299987792969, 144.74999809265137, 356.7600049972534, 434.8699951171875, 316.4599857330322, 356.8399906158447, 344.21999645233154, 341.0400142669678, 199.14000129699707, 12.709999561309814, 56.26999855041504, 63.15999984741211, 231.05000114440918, 125.24999618530273, 56.29999923706055, 47.36000061035156, 154.0, 37.07000160217285, 71.19000053405762, 333.7700004577637, 335.68001079559326, 305.6499881744385, 25.810000896453857, 20.80999994277954, 32.06999921798706, 40.339999198913574, 33.34000015258789, 118.25000381469727, 84.80000114440918, 101.08999633789062, 101.0200023651123, 109.9799966812134, 116.41000175476073, 115.7999973297119, 133.11999893188477, 45.53999900817871, 35.77000045776367, 102.96999740600586, 264.3100051879883, 67.04000091552734, 335.80001068115234, 323.5199909210205, 17.76000052690506, 25.38999891281128, 69.04999732971191, 29.489999771118168, 20.440000534057617, 288.43999099731445, 271.649995803833, 348.5299940109253, 39.15999984741211, 352.6100082397461, 326.8600101470947, 348.10999298095703], \"validation\": []}]}, \"predictionPowerScore\": [{\"AGE\": 1.0, \"B\": 0.0, \"B_LSTAT\": 0.0, \"CHAS\": 0.0, \"CRIM\": 0.1076923201, \"DIS\": 0.3735291829, \"INDUS\": 0.487275631, \"LSTAT\": 0.007141742, \"MEDV\": 0.1034325107, \"NOX\": 0.5096924616, \"PTRATIO\": 0.3549150658, \"RAD\": 0.1579859837, \"RM\": 0.0, \"TAX\": 0.4368743974, \"ZN\": 0.2197834263}, {\"AGE\": 0.0, \"B\": 1.0, \"B_LSTAT\": 0.8709979682, \"CHAS\": 0.0, \"CRIM\": 0.0, \"DIS\": 0.0, \"INDUS\": 0.0, \"LSTAT\": 0.0, \"MEDV\": 0.0, \"NOX\": 0.1033584105, \"PTRATIO\": 0.0, \"RAD\": 0.0, \"RM\": 0.0, \"TAX\": 0.0, \"ZN\": 0.0}, {\"AGE\": 0.0, \"B\": 0.826458677, \"B_LSTAT\": 1.0, \"CHAS\": 0.0, \"CRIM\": 0.0, \"DIS\": 0.0, \"INDUS\": 0.0, \"LSTAT\": 0.0, \"MEDV\": 0.0, \"NOX\": 0.100099402, \"PTRATIO\": 0.0, \"RAD\": 0.0, \"RM\": 0.0, \"TAX\": 0.0, \"ZN\": 0.0}, {\"AGE\": 0.0, \"B\": 0.0, \"B_LSTAT\": 0.0, \"CHAS\": 1.0, \"CRIM\": 0.0, \"DIS\": 0.0, \"INDUS\": 0.0, \"LSTAT\": 0.0, \"MEDV\": 0.0, \"NOX\": 0.0, \"PTRATIO\": 0.0, \"RAD\": 0.0, \"RM\": 0.0, \"TAX\": 0.0, \"ZN\": 0.0}, {\"AGE\": 0.0, \"B\": 0.0, \"B_LSTAT\": 0.0, \"CHAS\": 0.0, \"CRIM\": 1.0, \"DIS\": 0.0, \"INDUS\": 0.3945679246, \"LSTAT\": 0.0, \"MEDV\": 0.0, \"NOX\": 0.4174549044, \"PTRATIO\": 0.3389284015, \"RAD\": 0.3339646185, \"RM\": 0.0, \"TAX\": 0.3881264252, \"ZN\": 0.0}, {\"AGE\": 0.2178055949, \"B\": 0.0, \"B_LSTAT\": 0.0, \"CHAS\": 0.0, \"CRIM\": 0.1313929106, \"DIS\": 1.0, \"INDUS\": 0.7440599747, \"LSTAT\": 0.0, \"MEDV\": 0.0, \"NOX\": 0.7656561668, \"PTRATIO\": 0.4867027807, \"RAD\": 0.2009408702, \"RM\": 0.0, \"TAX\": 0.6720349763, \"ZN\": 0.3449288504}, {\"AGE\": 0.1693934731, \"B\": 0.0377377436, \"B_LSTAT\": 0.1008041857, \"CHAS\": 0.0, \"CRIM\": 0.3952296516, \"DIS\": 0.4286514447, \"INDUS\": 1.0, \"LSTAT\": 0.0885038763, \"MEDV\": 0.2093722787, \"NOX\": 0.8987835322, \"PTRATIO\": 0.6711081205, \"RAD\": 0.4386124604, \"RM\": 0.0, \"TAX\": 0.8668643085, \"ZN\": 0.2647645172}, {\"AGE\": 0.0213368173, \"B\": 0.0, \"B_LSTAT\": 0.1554629149, \"CHAS\": 0.0, \"CRIM\": 0.0, \"DIS\": 0.0785913703, \"INDUS\": 0.3067398098, \"LSTAT\": 1.0, \"MEDV\": 0.3041179084, \"NOX\": 0.3407682384, \"PTRATIO\": 0.2204622574, \"RAD\": 0.171530333, \"RM\": 0.023167722, \"TAX\": 0.2642349527, \"ZN\": 0.1289568884}, {\"AGE\": 0.0, \"B\": 0.0, \"B_LSTAT\": 0.0, \"CHAS\": 0.0, \"CRIM\": 0.0, \"DIS\": 0.0, \"INDUS\": 0.2794327809, \"LSTAT\": 0.1746671991, \"MEDV\": 1.0, \"NOX\": 0.3294238181, \"PTRATIO\": 0.1869045638, \"RAD\": 0.079169726, \"RM\": 0.1002205168, \"TAX\": 0.1764342754, \"ZN\": 0.1042276868}, {\"AGE\": 0.2026718646, \"B\": 0.0, \"B_LSTAT\": 0.0, \"CHAS\": 0.0, \"CRIM\": 0.3429665494, \"DIS\": 0.4231832995, \"INDUS\": 0.7489276145, \"LSTAT\": 0.0, \"MEDV\": 0.0829674597, \"NOX\": 1.0, \"PTRATIO\": 0.527066697, \"RAD\": 0.3137312353, \"RM\": 0.0, \"TAX\": 0.6889449912, \"ZN\": 0.2386278439}, {\"AGE\": 0.0, \"B\": 0.0, \"B_LSTAT\": 0.0, \"CHAS\": 0.0, \"CRIM\": 0.0895896287, \"DIS\": 0.1400950162, \"INDUS\": 0.9262211525, \"LSTAT\": 0.0, \"MEDV\": 0.0314476433, \"NOX\": 0.8350880592, \"PTRATIO\": 1.0, \"RAD\": 0.3247578482, \"RM\": 0.0, \"TAX\": 0.763460722, \"ZN\": 0.1813036541}, {\"AGE\": 0.0, \"B\": 0.0, \"B_LSTAT\": 0.0, \"CHAS\": 0.0, \"CRIM\": 0.7354620745, \"DIS\": 0.0216370346, \"INDUS\": 0.9698621943, \"LSTAT\": 0.0, \"MEDV\": 0.0913290048, \"NOX\": 0.9655790346, \"PTRATIO\": 0.811415997, \"RAD\": 1.0, \"RM\": 0.0, \"TAX\": 0.9175014426, \"ZN\": 0.0}, {\"AGE\": 0.0, \"B\": 0.0, \"B_LSTAT\": 0.0, \"CHAS\": 0.0, \"CRIM\": 0.0, \"DIS\": 0.0, \"INDUS\": 0.1461731954, \"LSTAT\": 0.0, \"MEDV\": 0.1045623353, \"NOX\": 0.1395837727, \"PTRATIO\": 0.102898716, \"RAD\": 0.0, \"RM\": 1.0, \"TAX\": 0.0444450985, \"ZN\": 0.0951258322}, {\"AGE\": 0.0, \"B\": 0.0, \"B_LSTAT\": 0.0, \"CHAS\": 0.0, \"CRIM\": 0.542221313, \"DIS\": 0.1883196315, \"INDUS\": 0.9729081033, \"LSTAT\": 0.0, \"MEDV\": 0.1666579026, \"NOX\": 0.9496055233, \"PTRATIO\": 0.7283403474, \"RAD\": 0.6916701903, \"RM\": 0.0, \"TAX\": 1.0, \"ZN\": 0.0690256645}, {\"AGE\": 0.0126477046, \"B\": 0.0, \"B_LSTAT\": 0.0, \"CHAS\": 0.0, \"CRIM\": 0.0, \"DIS\": 0.4380400968, \"INDUS\": 0.8282149534, \"LSTAT\": 0.0, \"MEDV\": 0.0, \"NOX\": 0.7024484977, \"PTRATIO\": 0.2993860304, \"RAD\": 0.0, \"RM\": 0.0, \"TAX\": 0.4970801968, \"ZN\": 1.0}], \"HasBasicStats\": 1, \"functionsApplied\": [{\"functionName\": \"formula\", \"applyOn\": [{\"columnName\": \"B\", \"type\": \"real\", \"min\": \"0.3\", \"max\": \"396.9\", \"mean\": \"356.8\"}, {\"columnName\": \"LSTAT\", \"type\": \"real\", \"min\": \"1.7\", \"max\": \"38.0\", \"mean\": \"12.6\"}], \"functionsData\": [{\"operand1\": \"B\", \"operator\": \"add\", \"operand2\": \"LSTAT\", \"outputColumn\": \"newColumn\", \"useNext\": 0, \"column\": [{\"Columndata\": {\"columnName\": \"B\", \"type\": \"real\", \"min\": \"0.3\", \"max\": \"396.9\", \"mean\": \"356.8\"}}, {\"Columndata\": {\"columnName\": \"LSTAT\", \"type\": \"real\", \"min\": \"1.7\", \"max\": \"38.0\", \"mean\": \"12.6\"}}, {\"Columndata\": \"\"}], \"newColumnName\": \"B_LSTAT\"}]}], \"functionChanges\": [{\"columnName\": \"B\", \"functionName\": \"Formula\", \"Type\": \"real\", \"Parameters\": [{\"operand1\": \"B\", \"operator\": \"add\", \"operand2\": \"LSTAT\", \"outputColumn\": \"newColumn\", \"useNext\": 0, \"column\": [{\"Columndata\": {\"columnName\": \"B\", \"type\": \"real\", \"min\": \"0.3\", \"max\": \"396.9\", \"mean\": \"356.8\"}}, {\"Columndata\": {\"columnName\": \"LSTAT\", \"type\": \"real\", \"min\": \"1.7\", \"max\": \"38.0\", \"mean\": \"12.6\"}}, {\"Columndata\": \"\"}], \"newColumnName\": \"B_LSTAT\"}]}, {\"columnName\": \"LSTAT\", \"functionName\": \"Formula\", \"Type\": \"real\", \"Parameters\": [{\"operand1\": \"B\", \"operator\": \"add\", \"operand2\": \"LSTAT\", \"outputColumn\": \"newColumn\", \"useNext\": 0, \"column\": [{\"Columndata\": {\"columnName\": \"B\", \"type\": \"real\", \"min\": \"0.3\", \"max\": \"396.9\", \"mean\": \"356.8\"}}, {\"Columndata\": {\"columnName\": \"LSTAT\", \"type\": \"real\", \"min\": \"1.7\", \"max\": \"38.0\", \"mean\": \"12.6\"}}, {\"Columndata\": \"\"}], \"newColumnName\": \"B_LSTAT\"}]}], \"fileheader\": [{\"field\": \"CRIM\", \"alias\": \"CRIM\", \"generated\": 0, \"position\": 1, \"type\": \"real\"}, {\"field\": \"ZN\", \"alias\": \"ZN\", \"generated\": 0, \"position\": 2, \"type\": \"real\"}, {\"field\": \"INDUS\", \"alias\": \"INDUS\", \"generated\": 0, \"position\": 3, \"type\": \"real\"}, {\"field\": \"CHAS\", \"alias\": \"CHAS\", \"generated\": 0, \"position\": 4, \"type\": \"real\"}, {\"field\": \"NOX\", \"alias\": \"NOX\", \"generated\": 0, \"position\": 5, \"type\": \"real\"}, {\"field\": \"RM\", \"alias\": \"RM\", \"generated\": 0, \"position\": 6, \"type\": \"real\"}, {\"field\": \"AGE\", \"alias\": \"AGE\", \"generated\": 0, \"position\": 7, \"type\": \"real\"}, {\"field\": \"DIS\", \"alias\": \"DIS\", \"generated\": 0, \"position\": 8, \"type\": \"real\"}, {\"field\": \"RAD\", \"alias\": \"RAD\", \"generated\": 0, \"position\": 9, \"type\": \"real\"}, {\"field\": \"TAX\", \"alias\": \"TAX\", \"generated\": 0, \"position\": 10, \"type\": \"real\"}, {\"field\": \"PTRATIO\", \"alias\": \"PTRATIO\", \"generated\": 0, \"position\": 11, \"type\": \"real\"}, {\"field\": \"B\", \"alias\": \"B\", \"generated\": 0, \"position\": 12, \"type\": \"real\"}, {\"field\": \"LSTAT\", \"alias\": \"LSTAT\", \"generated\": 0, \"position\": 13, \"type\": \"real\"}, {\"field\": \"MEDV\", \"alias\": \"MEDV\", \"generated\": 0, \"position\": 14, \"type\": \"real\"}, {\"field\": \"B_LSTAT\", \"alias\": \"B_LSTAT\", \"generated\": 1, \"position\": 15, \"type\": \"real\"}]}))\n",
    "\t#operationPostExecutionHook(datapreparation)\n",
    "\n",
    "except Exception as ex: \n",
    "\tlogging.error(ex)\n"
   ]
  },
  {
   "cell_type": "markdown",
   "id": "6ea9ea35",
   "metadata": {},
   "source": [
    "***WRITING DATAFRAME***"
   ]
  },
  {
   "cell_type": "code",
   "execution_count": null,
   "id": "0f080f88",
   "metadata": {},
   "outputs": [],
   "source": [
    "#%run 3110sqlbostonHooks.ipynb\n",
    "try:\n",
    "\t#sinkPreExecutionHook()\n",
    "\n",
    "\tdatapipelines = NumtraConnector.fetch(spark, \"{'samplefile': '/FileStore/platform/sampleData/6540b665730bd4ed2218ecd7/part-00000-04ee6a71-83bb-4f20-bb14-b5d2d84004e9-c000.csv', 'samplecount': 508, 'originalcount': 508, 'orignalKey': None, 'pathOnly': '/DataPipelines', 'project_id': '653649fa02108c303fddceda', 'parent_id': '653649fa02108c303fddceda', 'original_schema': [{'checked': True, 'inherited': True, 'is_categorical': False, 'bad_values': '', 'nullable': 'true', 'field': 'CRIM', 'alias': 'CRIM', 'type': 'real', 'position': '0'}, {'checked': True, 'inherited': True, 'is_categorical': False, 'bad_values': '', 'nullable': 'true', 'field': 'ZN', 'alias': 'ZN', 'type': 'real', 'position': '1'}, {'checked': True, 'inherited': True, 'is_categorical': False, 'bad_values': '', 'nullable': 'true', 'field': 'INDUS', 'alias': 'INDUS', 'type': 'real', 'position': '2'}, {'checked': True, 'inherited': True, 'is_categorical': False, 'bad_values': '', 'nullable': 'true', 'field': 'CHAS', 'alias': 'CHAS', 'type': 'real', 'position': '3'}, {'checked': True, 'inherited': True, 'is_categorical': False, 'bad_values': '', 'nullable': 'true', 'field': 'NOX', 'alias': 'NOX', 'type': 'real', 'position': '4'}, {'checked': True, 'inherited': True, 'is_categorical': False, 'bad_values': '', 'nullable': 'true', 'field': 'RM', 'alias': 'RM', 'type': 'real', 'position': '5'}, {'checked': True, 'inherited': True, 'is_categorical': False, 'bad_values': '', 'nullable': 'true', 'field': 'AGE', 'alias': 'AGE', 'type': 'real', 'position': '6'}, {'checked': True, 'inherited': True, 'is_categorical': False, 'bad_values': '', 'nullable': 'true', 'field': 'DIS', 'alias': 'DIS', 'type': 'real', 'position': '7'}, {'checked': True, 'inherited': True, 'is_categorical': False, 'bad_values': '', 'nullable': 'true', 'field': 'RAD', 'alias': 'RAD', 'type': 'real', 'position': '8'}, {'checked': True, 'inherited': True, 'is_categorical': False, 'bad_values': '', 'nullable': 'true', 'field': 'TAX', 'alias': 'TAX', 'type': 'real', 'position': '9'}, {'checked': True, 'inherited': True, 'is_categorical': False, 'bad_values': '', 'nullable': 'true', 'field': 'PTRATIO', 'alias': 'PTRATIO', 'type': 'real', 'position': '10'}, {'checked': True, 'inherited': True, 'is_categorical': False, 'bad_values': '', 'nullable': 'true', 'field': 'B', 'alias': 'B', 'type': 'real', 'position': '11'}, {'checked': True, 'inherited': True, 'is_categorical': False, 'bad_values': '', 'nullable': 'true', 'field': 'LSTAT', 'alias': 'LSTAT', 'type': 'real', 'position': '12'}, {'checked': True, 'inherited': True, 'is_categorical': False, 'bad_values': '', 'nullable': 'true', 'field': 'MEDV', 'alias': 'MEDV', 'type': 'real', 'position': '13'}, {'checked': True, 'inherited': True, 'is_categorical': False, 'bad_values': '', 'nullable': 'true', 'field': 'B_LSTAT', 'alias': 'B_LSTAT', 'type': 'real', 'position': '15'}], 'actual_schema': [{'checked': True, 'inherited': True, 'is_categorical': False, 'bad_values': '', 'nullable': 'true', 'field': 'CRIM', 'alias': 'CRIM', 'type': 'real', 'position': '0'}, {'checked': True, 'inherited': True, 'is_categorical': False, 'bad_values': '', 'nullable': 'true', 'field': 'ZN', 'alias': 'ZN', 'type': 'real', 'position': '1'}, {'checked': True, 'inherited': True, 'is_categorical': False, 'bad_values': '', 'nullable': 'true', 'field': 'INDUS', 'alias': 'INDUS', 'type': 'real', 'position': '2'}, {'checked': True, 'inherited': True, 'is_categorical': False, 'bad_values': '', 'nullable': 'true', 'field': 'CHAS', 'alias': 'CHAS', 'type': 'real', 'position': '3'}, {'checked': True, 'inherited': True, 'is_categorical': False, 'bad_values': '', 'nullable': 'true', 'field': 'NOX', 'alias': 'NOX', 'type': 'real', 'position': '4'}, {'checked': True, 'inherited': True, 'is_categorical': False, 'bad_values': '', 'nullable': 'true', 'field': 'RM', 'alias': 'RM', 'type': 'real', 'position': '5'}, {'checked': True, 'inherited': True, 'is_categorical': False, 'bad_values': '', 'nullable': 'true', 'field': 'AGE', 'alias': 'AGE', 'type': 'real', 'position': '6'}, {'checked': True, 'inherited': True, 'is_categorical': False, 'bad_values': '', 'nullable': 'true', 'field': 'DIS', 'alias': 'DIS', 'type': 'real', 'position': '7'}, {'checked': True, 'inherited': True, 'is_categorical': False, 'bad_values': '', 'nullable': 'true', 'field': 'RAD', 'alias': 'RAD', 'type': 'real', 'position': '8'}, {'checked': True, 'inherited': True, 'is_categorical': False, 'bad_values': '', 'nullable': 'true', 'field': 'TAX', 'alias': 'TAX', 'type': 'real', 'position': '9'}, {'checked': True, 'inherited': True, 'is_categorical': False, 'bad_values': '', 'nullable': 'true', 'field': 'PTRATIO', 'alias': 'PTRATIO', 'type': 'real', 'position': '10'}, {'checked': True, 'inherited': True, 'is_categorical': False, 'bad_values': '', 'nullable': 'true', 'field': 'B', 'alias': 'B', 'type': 'real', 'position': '11'}, {'checked': True, 'inherited': True, 'is_categorical': False, 'bad_values': '', 'nullable': 'true', 'field': 'LSTAT', 'alias': 'LSTAT', 'type': 'real', 'position': '12'}, {'checked': True, 'inherited': True, 'is_categorical': False, 'bad_values': '', 'nullable': 'true', 'field': 'MEDV', 'alias': 'MEDV', 'type': 'real', 'position': '13'}], 'server': 'https://ml.numtra.com:443', 'server_url': '/numtraPlatform/NumtraPlatformV3/uploads/platform/', 'delimiter': ',', 'file_type': 'Delimeted', 'filename': 'SQLBostonTransf.csv', 'token': '', 'domain': '', 'is_header': 'Use Header Line', 'url': '/FileStore/platform/uploadedSourceFiles/part-00000-84208061-d221-4a95-b932-5c4194454543-c000.csv', 'results_url': 'http://ml.numtra.com:44040/api/read/hdfs'}\")\n",
    "\n",
    "except Exception as ex: \n",
    "\tlogging.error(ex)\n"
   ]
  }
 ],
 "metadata": {},
 "nbformat": 4,
 "nbformat_minor": 5
}
